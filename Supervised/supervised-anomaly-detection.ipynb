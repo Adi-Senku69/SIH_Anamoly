{
 "metadata": {
  "kernelspec": {
   "language": "python",
   "display_name": "Python 3",
   "name": "python3"
  },
  "language_info": {
   "pygments_lexer": "ipython3",
   "nbconvert_exporter": "python",
   "version": "3.6.4",
   "file_extension": ".py",
   "codemirror_mode": {
    "name": "ipython",
    "version": 3
   },
   "name": "python",
   "mimetype": "text/x-python"
  },
  "kaggle": {
   "accelerator": "none",
   "dataSources": [
    {
     "sourceId": 29569,
     "databundleVersionId": 2386789,
     "sourceType": "competition"
    }
   ],
   "dockerImageVersionId": 30558,
   "isInternetEnabled": true,
   "language": "python",
   "sourceType": "notebook",
   "isGpuEnabled": false
  }
 },
 "nbformat_minor": 4,
 "nbformat": 4,
 "cells": [
  {
   "cell_type": "code",
   "source": [
    "import warnings\n",
    "warnings.filterwarnings('ignore')"
   ],
   "metadata": {
    "execution": {
     "iopub.status.busy": "2023-09-24T10:55:46.340751Z",
     "iopub.execute_input": "2023-09-24T10:55:46.341134Z",
     "iopub.status.idle": "2023-09-24T10:55:46.354968Z",
     "shell.execute_reply.started": "2023-09-24T10:55:46.341104Z",
     "shell.execute_reply": "2023-09-24T10:55:46.353728Z"
    },
    "trusted": true,
    "ExecuteTime": {
     "end_time": "2024-02-02T16:04:58.367025896Z",
     "start_time": "2024-02-02T16:04:58.326174835Z"
    }
   },
   "execution_count": 6,
   "outputs": []
  },
  {
   "cell_type": "code",
   "source": [
    "import numpy as np\n",
    "import pandas as pd\n",
    "#import matplotlib.pyplot as plt\n",
    "import seaborn as sb\n",
    "import xgboost as xgb\n",
    "from xgboost import XGBClassifier\n",
    "from sklearn.ensemble import IsolationForest\n",
    "from sklearn.neighbors import KNeighborsClassifier\n",
    "from sklearn.model_selection import train_test_split\n",
    "from sklearn.neighbors import LocalOutlierFactor\n",
    "from sklearn.svm import OneClassSVM\n",
    "from sklearn.metrics import accuracy_score,confusion_matrix,classification_report,ConfusionMatrixDisplay\n",
    "from pathlib import Path"
   ],
   "metadata": {
    "_uuid": "8f2839f25d086af736a60e9eeb907d3b93b6e0e5",
    "_cell_guid": "b1076dfc-b9ad-4769-8c92-a6c4dae69d19",
    "execution": {
     "iopub.status.busy": "2023-09-24T10:55:46.356875Z",
     "iopub.execute_input": "2023-09-24T10:55:46.357942Z",
     "iopub.status.idle": "2023-09-24T10:55:47.567655Z",
     "shell.execute_reply.started": "2023-09-24T10:55:46.357904Z",
     "shell.execute_reply": "2023-09-24T10:55:47.566539Z"
    },
    "trusted": true,
    "ExecuteTime": {
     "end_time": "2024-02-02T16:05:08.147321368Z",
     "start_time": "2024-02-02T16:05:08.136729150Z"
    }
   },
   "execution_count": 8,
   "outputs": [
    {
     "ename": "ModuleNotFoundError",
     "evalue": "No module named 'seaborn'",
     "output_type": "error",
     "traceback": [
      "\u001B[0;31m---------------------------------------------------------------------------\u001B[0m",
      "\u001B[0;31mModuleNotFoundError\u001B[0m                       Traceback (most recent call last)",
      "Cell \u001B[0;32mIn[8], line 4\u001B[0m\n\u001B[1;32m      2\u001B[0m \u001B[38;5;28;01mimport\u001B[39;00m \u001B[38;5;21;01mpandas\u001B[39;00m \u001B[38;5;28;01mas\u001B[39;00m \u001B[38;5;21;01mpd\u001B[39;00m\n\u001B[1;32m      3\u001B[0m \u001B[38;5;66;03m#import matplotlib.pyplot as plt\u001B[39;00m\n\u001B[0;32m----> 4\u001B[0m \u001B[38;5;28;01mimport\u001B[39;00m \u001B[38;5;21;01mseaborn\u001B[39;00m \u001B[38;5;28;01mas\u001B[39;00m \u001B[38;5;21;01msb\u001B[39;00m\n\u001B[1;32m      5\u001B[0m \u001B[38;5;28;01mimport\u001B[39;00m \u001B[38;5;21;01mxgboost\u001B[39;00m \u001B[38;5;28;01mas\u001B[39;00m \u001B[38;5;21;01mxgb\u001B[39;00m\n\u001B[1;32m      6\u001B[0m \u001B[38;5;28;01mfrom\u001B[39;00m \u001B[38;5;21;01mxgboost\u001B[39;00m \u001B[38;5;28;01mimport\u001B[39;00m XGBClassifier\n",
      "\u001B[0;31mModuleNotFoundError\u001B[0m: No module named 'seaborn'"
     ]
    }
   ]
  },
  {
   "cell_type": "code",
   "outputs": [],
   "source": [
    "PATH_TRAIN = Path(r\"Supervised/train.csv\")"
   ],
   "metadata": {
    "collapsed": false
   }
  },
  {
   "cell_type": "code",
   "source": [
    "df_train = pd.read_csv('/kaggle/input/anomaly-detection/train.csv')\n",
    "df_train.head(2)"
   ],
   "metadata": {
    "execution": {
     "iopub.status.busy": "2023-09-24T10:55:47.569158Z",
     "iopub.execute_input": "2023-09-24T10:55:47.569899Z",
     "iopub.status.idle": "2023-09-24T10:55:47.601942Z",
     "shell.execute_reply.started": "2023-09-24T10:55:47.569866Z",
     "shell.execute_reply": "2023-09-24T10:55:47.600913Z"
    },
    "trusted": true
   },
   "execution_count": null,
   "outputs": []
  },
  {
   "cell_type": "code",
   "source": [
    "df_train['is_anomaly'] = df_train['is_anomaly'].replace(False,0).replace(True,1)\n",
    "df_train['is_anomaly'].value_counts()"
   ],
   "metadata": {
    "execution": {
     "iopub.status.busy": "2023-09-24T10:55:47.604696Z",
     "iopub.execute_input": "2023-09-24T10:55:47.605027Z",
     "iopub.status.idle": "2023-09-24T10:55:47.635664Z",
     "shell.execute_reply.started": "2023-09-24T10:55:47.604997Z",
     "shell.execute_reply": "2023-09-24T10:55:47.634453Z"
    },
    "trusted": true
   },
   "execution_count": null,
   "outputs": []
  },
  {
   "cell_type": "code",
   "source": [
    "df_train.isnull().sum()\n"
   ],
   "metadata": {
    "execution": {
     "iopub.status.busy": "2023-09-24T10:55:47.637642Z",
     "iopub.execute_input": "2023-09-24T10:55:47.637998Z",
     "iopub.status.idle": "2023-09-24T10:55:47.648141Z",
     "shell.execute_reply.started": "2023-09-24T10:55:47.637967Z",
     "shell.execute_reply": "2023-09-24T10:55:47.6469Z"
    },
    "trusted": true
   },
   "execution_count": null,
   "outputs": []
  },
  {
   "cell_type": "code",
   "source": [
    "df_train.describe()"
   ],
   "metadata": {
    "execution": {
     "iopub.status.busy": "2023-09-24T10:55:47.649496Z",
     "iopub.execute_input": "2023-09-24T10:55:47.649891Z",
     "iopub.status.idle": "2023-09-24T10:55:47.68166Z",
     "shell.execute_reply.started": "2023-09-24T10:55:47.649853Z",
     "shell.execute_reply": "2023-09-24T10:55:47.680541Z"
    },
    "trusted": true
   },
   "execution_count": null,
   "outputs": []
  },
  {
   "cell_type": "code",
   "source": [
    "plt.figure(figsize=(25, 9))\n",
    "sb.heatmap(df_train.corr(),annot=True,cmap='coolwarm')\n",
    "plt.show()"
   ],
   "metadata": {
    "execution": {
     "iopub.status.busy": "2023-09-24T10:55:47.685438Z",
     "iopub.execute_input": "2023-09-24T10:55:47.685817Z",
     "iopub.status.idle": "2023-09-24T10:55:48.126349Z",
     "shell.execute_reply.started": "2023-09-24T10:55:47.685784Z",
     "shell.execute_reply": "2023-09-24T10:55:48.125518Z"
    },
    "trusted": true
   },
   "execution_count": null,
   "outputs": []
  },
  {
   "cell_type": "code",
   "source": [
    "sb.scatterplot(x=df_train['predicted'], y=df_train['value'])"
   ],
   "metadata": {
    "execution": {
     "iopub.status.busy": "2023-09-24T10:55:48.128055Z",
     "iopub.execute_input": "2023-09-24T10:55:48.128463Z",
     "iopub.status.idle": "2023-09-24T10:55:48.510872Z",
     "shell.execute_reply.started": "2023-09-24T10:55:48.128429Z",
     "shell.execute_reply": "2023-09-24T10:55:48.50973Z"
    },
    "trusted": true
   },
   "execution_count": null,
   "outputs": []
  },
  {
   "cell_type": "code",
   "source": [
    "print(\"Total No of Transactions:\",df_train.size)\n",
    "\n",
    "Fraud_df = df_train[df_train['is_anomaly']==True]\n",
    "print(\"No of Anomalous Transactions:\",len(Fraud_df))\n",
    "\n",
    "Valid_df = df_train[df_train['is_anomaly']==False]\n",
    "print(\"No of Valid Transactions:\",len(Valid_df))\n",
    "\n",
    "outlier_fraction = len(Fraud_df)/float(len(df_train))\n",
    "valid_fraction = len(Valid_df)/float(len(df_train))\n",
    "print(\"Percentage of Anomalous Transactions:\",round((outlier_fraction*100),3))\n",
    "print(\"Percentage of Valid Transactions:\",round((valid_fraction*100),3))"
   ],
   "metadata": {
    "execution": {
     "iopub.status.busy": "2023-09-24T10:55:48.512472Z",
     "iopub.execute_input": "2023-09-24T10:55:48.513551Z",
     "iopub.status.idle": "2023-09-24T10:55:48.526074Z",
     "shell.execute_reply.started": "2023-09-24T10:55:48.513494Z",
     "shell.execute_reply": "2023-09-24T10:55:48.524866Z"
    },
    "trusted": true
   },
   "execution_count": null,
   "outputs": []
  },
  {
   "cell_type": "code",
   "source": [
    "X = df_train.drop(columns=['is_anomaly'],inplace=False,axis=1)\n",
    "X.head(2)"
   ],
   "metadata": {
    "execution": {
     "iopub.status.busy": "2023-09-24T10:55:48.530324Z",
     "iopub.execute_input": "2023-09-24T10:55:48.530711Z",
     "iopub.status.idle": "2023-09-24T10:55:48.545713Z",
     "shell.execute_reply.started": "2023-09-24T10:55:48.530678Z",
     "shell.execute_reply": "2023-09-24T10:55:48.544345Z"
    },
    "trusted": true
   },
   "execution_count": null,
   "outputs": []
  },
  {
   "cell_type": "code",
   "source": [
    "y = df_train['is_anomaly']\n",
    "y.head(3)"
   ],
   "metadata": {
    "execution": {
     "iopub.status.busy": "2023-09-24T10:55:48.547535Z",
     "iopub.execute_input": "2023-09-24T10:55:48.548002Z",
     "iopub.status.idle": "2023-09-24T10:55:48.55578Z",
     "shell.execute_reply.started": "2023-09-24T10:55:48.547959Z",
     "shell.execute_reply": "2023-09-24T10:55:48.55466Z"
    },
    "trusted": true
   },
   "execution_count": null,
   "outputs": []
  },
  {
   "cell_type": "code",
   "source": [
    "X.shape\n",
    "X_train = X.copy(deep=True)\n",
    "y_train  = y.copy(deep=True)"
   ],
   "metadata": {
    "execution": {
     "iopub.status.busy": "2023-09-24T10:55:48.557578Z",
     "iopub.execute_input": "2023-09-24T10:55:48.55803Z",
     "iopub.status.idle": "2023-09-24T10:55:48.566356Z",
     "shell.execute_reply.started": "2023-09-24T10:55:48.557989Z",
     "shell.execute_reply": "2023-09-24T10:55:48.565382Z"
    },
    "trusted": true
   },
   "execution_count": null,
   "outputs": []
  },
  {
   "cell_type": "code",
   "source": [
    "state = np.random.RandomState(42)\n",
    "X_outliers = state.uniform(low=0, high=1, size=(X_train.shape[0], X_train.shape[1]))"
   ],
   "metadata": {
    "execution": {
     "iopub.status.busy": "2023-09-24T10:55:48.567951Z",
     "iopub.execute_input": "2023-09-24T10:55:48.569034Z",
     "iopub.status.idle": "2023-09-24T10:55:48.577523Z",
     "shell.execute_reply.started": "2023-09-24T10:55:48.56899Z",
     "shell.execute_reply": "2023-09-24T10:55:48.576421Z"
    },
    "trusted": true
   },
   "execution_count": null,
   "outputs": []
  },
  {
   "cell_type": "code",
   "source": [
    "classifiers = {\n",
    "    \"Isolation Forest\":IsolationForest(n_estimators=100,\n",
    "                                       max_samples=len(X_train), \n",
    "                                       contamination=outlier_fraction,\n",
    "                                       random_state=state, \n",
    "                                       verbose=0),\n",
    "    \"Local Outlier Factor\":LocalOutlierFactor(n_neighbors=20,\n",
    "                                              algorithm='auto', \n",
    "                                              leaf_size=30, \n",
    "                                              metric='minkowski',\n",
    "                                              novelty=False,\n",
    "                                              p=2, metric_params=None,\n",
    "                                              contamination=outlier_fraction),\n",
    "    \"Novelty Local Outlier Factor\":LocalOutlierFactor(n_neighbors=20, algorithm='auto', \n",
    "                                              leaf_size=30, metric='minkowski',\n",
    "                                                      novelty=True,p=2, metric_params=None, \n",
    "                                                      contamination=outlier_fraction),\n",
    "    \"Support Vector Machine\":OneClassSVM(kernel='rbf', degree=3, gamma=0.1,nu=0.05, \n",
    "                                         max_iter=-1),\n",
    "    \"XGBClassifier\":XGBClassifier(objective=\"binary:logistic\", random_state=42)\n",
    "}"
   ],
   "metadata": {
    "execution": {
     "iopub.status.busy": "2023-09-24T10:55:48.57936Z",
     "iopub.execute_input": "2023-09-24T10:55:48.580209Z",
     "iopub.status.idle": "2023-09-24T10:55:48.591286Z",
     "shell.execute_reply.started": "2023-09-24T10:55:48.580164Z",
     "shell.execute_reply": "2023-09-24T10:55:48.590026Z"
    },
    "trusted": true
   },
   "execution_count": null,
   "outputs": []
  },
  {
   "cell_type": "code",
   "source": [
    "f, axes = plt.subplots(1, 5, figsize=(20, 10), sharey='row')\n",
    "for i, (clf_name,clf) in enumerate(classifiers.items()):\n",
    "    #Fit the data and tag outliers\n",
    "    print(\"###\"*32)\n",
    "    if clf_name == \"Local Outlier Factor\":\n",
    "        y_pred = clf.fit_predict(X_train)\n",
    "        scores_prediction = clf.negative_outlier_factor_\n",
    "    elif clf_name == \"Support Vector Machine\":\n",
    "        clf.fit(X_train)\n",
    "        y_pred = clf.predict(X_train)\n",
    "    elif clf_name == \"Novelty Local Outlier Factor\":\n",
    "        clf.fit(X_train)\n",
    "        y_pred = clf.predict(X_train)\n",
    "        scores_prediction = clf.negative_outlier_factor_  \n",
    "    elif clf_name == \"XGBClassifier\":\n",
    "        clf.fit(X_train,y_train)\n",
    "        y_pred = clf.predict(X_train)\n",
    "    else:    \n",
    "        clf.fit(X_train)\n",
    "        scores_prediction = clf.decision_function(X_train)\n",
    "        y_pred = clf.predict(X_train)\n",
    "#     Reshape the prediction values to 0 for Valid transactions , 1 for Fraud transactions\n",
    "    y_pred[y_pred == 1] = 0\n",
    "    y_pred[y_pred == -1] = 1\n",
    "    n_errors = (y_pred != y_train).sum()\n",
    "    # Run Classification Metrics\n",
    "    print(\"{}: {}\".format(clf_name,n_errors))\n",
    "    ac_score = accuracy_score(y_train,y_pred)\n",
    "    \n",
    "    print(f\"Accuracy Score :{round(ac_score,2)}\")\n",
    "    print(\"Classification Report :\")\n",
    "    print(classification_report(y_train,y_pred))\n",
    "    cf_matrix = confusion_matrix(y_train, y_pred)\n",
    "    disp = ConfusionMatrixDisplay(cf_matrix)\n",
    "    disp.plot(ax=axes[i], values_format='.0f',cmap = \"Blues\")\n",
    "    axes[i].set_title(clf_name+\"f1:\"+str(round(ac_score,2)))\n",
    "    disp.im_.colorbar.remove()\n",
    "    disp.ax_.set_xlabel('')"
   ],
   "metadata": {
    "execution": {
     "iopub.status.busy": "2023-09-24T10:55:48.593407Z",
     "iopub.execute_input": "2023-09-24T10:55:48.59381Z",
     "iopub.status.idle": "2023-09-24T10:56:49.434207Z",
     "shell.execute_reply.started": "2023-09-24T10:55:48.593772Z",
     "shell.execute_reply": "2023-09-24T10:56:49.433023Z"
    },
    "trusted": true
   },
   "execution_count": null,
   "outputs": []
  },
  {
   "cell_type": "code",
   "source": [
    "X_test=pd.read_csv('/kaggle/input/anomaly-detection/test.csv')"
   ],
   "metadata": {
    "execution": {
     "iopub.status.busy": "2023-09-24T10:56:49.436198Z",
     "iopub.execute_input": "2023-09-24T10:56:49.436541Z",
     "iopub.status.idle": "2023-09-24T10:56:49.446322Z",
     "shell.execute_reply.started": "2023-09-24T10:56:49.436512Z",
     "shell.execute_reply": "2023-09-24T10:56:49.445368Z"
    },
    "trusted": true
   },
   "execution_count": null,
   "outputs": []
  },
  {
   "cell_type": "code",
   "source": [
    "clf  = XGBClassifier(objective=\"binary:logistic\", random_state=42)\n",
    "clf.fit(X_train,y_train)\n",
    "y_test_pred = clf.predict(X_test)"
   ],
   "metadata": {
    "execution": {
     "iopub.status.busy": "2023-09-24T10:56:49.448119Z",
     "iopub.execute_input": "2023-09-24T10:56:49.448498Z",
     "iopub.status.idle": "2023-09-24T10:56:50.204826Z",
     "shell.execute_reply.started": "2023-09-24T10:56:49.448468Z",
     "shell.execute_reply": "2023-09-24T10:56:50.203918Z"
    },
    "trusted": true
   },
   "execution_count": null,
   "outputs": []
  },
  {
   "cell_type": "code",
   "source": [
    "data={\"timestamp\":[],\"is_anomaly\":[]}\n",
    "for id,pred in zip(X[\"timestamp\"].unique(),y_test_pred):\n",
    "    data[\"timestamp\"].append(id)\n",
    "    data[\"is_anomaly\"].append(pred)"
   ],
   "metadata": {
    "execution": {
     "iopub.status.busy": "2023-09-24T10:56:50.20632Z",
     "iopub.execute_input": "2023-09-24T10:56:50.20703Z",
     "iopub.status.idle": "2023-09-24T10:56:50.216896Z",
     "shell.execute_reply.started": "2023-09-24T10:56:50.206995Z",
     "shell.execute_reply": "2023-09-24T10:56:50.215982Z"
    },
    "trusted": true
   },
   "execution_count": null,
   "outputs": []
  },
  {
   "cell_type": "code",
   "source": [
    "output=pd.DataFrame(data,columns=[\"timestamp\",\"is_anomaly\"])\n",
    "output.head(2)"
   ],
   "metadata": {
    "execution": {
     "iopub.status.busy": "2023-09-24T10:56:50.220172Z",
     "iopub.execute_input": "2023-09-24T10:56:50.221426Z",
     "iopub.status.idle": "2023-09-24T10:56:50.276836Z",
     "shell.execute_reply.started": "2023-09-24T10:56:50.221379Z",
     "shell.execute_reply": "2023-09-24T10:56:50.275779Z"
    },
    "trusted": true
   },
   "execution_count": null,
   "outputs": []
  },
  {
   "cell_type": "code",
   "source": [
    "output['is_anomaly'].value_counts()"
   ],
   "metadata": {
    "execution": {
     "iopub.status.busy": "2023-09-24T10:56:50.278509Z",
     "iopub.execute_input": "2023-09-24T10:56:50.279228Z",
     "iopub.status.idle": "2023-09-24T10:56:50.287578Z",
     "shell.execute_reply.started": "2023-09-24T10:56:50.279195Z",
     "shell.execute_reply": "2023-09-24T10:56:50.286524Z"
    },
    "trusted": true
   },
   "execution_count": null,
   "outputs": []
  },
  {
   "cell_type": "code",
   "source": [
    "output.to_csv('submission.csv', index=False)\n",
    "print(\"Your submission was successfully saved!\")\n",
    "output['is_anomaly'].value_counts()"
   ],
   "metadata": {
    "execution": {
     "iopub.status.busy": "2023-09-24T10:58:21.445135Z",
     "iopub.execute_input": "2023-09-24T10:58:21.445581Z",
     "iopub.status.idle": "2023-09-24T10:58:21.468721Z",
     "shell.execute_reply.started": "2023-09-24T10:58:21.445544Z",
     "shell.execute_reply": "2023-09-24T10:58:21.467736Z"
    },
    "trusted": true
   },
   "execution_count": null,
   "outputs": []
  }
 ]
}
